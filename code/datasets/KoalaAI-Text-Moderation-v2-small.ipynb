{
 "cells": [
  {
   "cell_type": "code",
   "execution_count": 1,
   "metadata": {},
   "outputs": [
    {
     "name": "stderr",
     "output_type": "stream",
     "text": [
      "c:\\Users\\seyf\\anaconda3\\envs\\thesis\\lib\\site-packages\\tqdm\\auto.py:21: TqdmWarning: IProgress not found. Please update jupyter and ipywidgets. See https://ipywidgets.readthedocs.io/en/stable/user_install.html\n",
      "  from .autonotebook import tqdm as notebook_tqdm\n"
     ]
    }
   ],
   "source": [
    "import sys\n",
    "import os\n",
    "\n",
    "# Adjust this to the path where your utils.py file is located\n",
    "sys.path.append(os.path.abspath(\"C:/Users/seyf/Documents/GitHub/Master-Thesis/code\"))\n",
    "\n",
    "from utils import download_huggingface_dataset"
   ]
  },
  {
   "cell_type": "code",
   "execution_count": 4,
   "metadata": {},
   "outputs": [
    {
     "name": "stdout",
     "output_type": "stream",
     "text": [
      "Dataset \"KoalaAI/Text-Moderation-v2-small\" (validation split) downloaded and saved to data\\KoalaAI_Text-Moderation-v2-small_validation.csv\n"
     ]
    }
   ],
   "source": [
    "dataset = download_huggingface_dataset(\"KoalaAI/Text-Moderation-v2-small\", split='validation', save_path='data')\n"
   ]
  },
  {
   "cell_type": "code",
   "execution_count": null,
   "metadata": {},
   "outputs": [
    {
     "data": {
      "text/html": [
       "<div>\n",
       "<style scoped>\n",
       "    .dataframe tbody tr th:only-of-type {\n",
       "        vertical-align: middle;\n",
       "    }\n",
       "\n",
       "    .dataframe tbody tr th {\n",
       "        vertical-align: top;\n",
       "    }\n",
       "\n",
       "    .dataframe thead th {\n",
       "        text-align: right;\n",
       "    }\n",
       "</style>\n",
       "<table border=\"1\" class=\"dataframe\">\n",
       "  <thead>\n",
       "    <tr style=\"text-align: right;\">\n",
       "      <th></th>\n",
       "      <th>_data_files</th>\n",
       "      <th>_fingerprint</th>\n",
       "      <th>_format_columns</th>\n",
       "      <th>_format_kwargs</th>\n",
       "      <th>_format_type</th>\n",
       "      <th>_output_all_columns</th>\n",
       "      <th>_split</th>\n",
       "    </tr>\n",
       "  </thead>\n",
       "  <tbody>\n",
       "    <tr>\n",
       "      <th>0</th>\n",
       "      <td>[{'filename': 'data-00000-of-00001.arrow'}]</td>\n",
       "      <td>fb0d094fce5f3ffd</td>\n",
       "      <td>[target, text]</td>\n",
       "      <td>{}</td>\n",
       "      <td>None</td>\n",
       "      <td>False</td>\n",
       "      <td>None</td>\n",
       "    </tr>\n",
       "  </tbody>\n",
       "</table>\n",
       "</div>"
      ],
      "text/plain": [
       "                                   _data_files      _fingerprint  \\\n",
       "0  [{'filename': 'data-00000-of-00001.arrow'}]  fb0d094fce5f3ffd   \n",
       "\n",
       "  _format_columns _format_kwargs _format_type  _output_all_columns _split  \n",
       "0  [target, text]             {}         None                False   None  "
      ]
     },
     "metadata": {},
     "output_type": "display_data"
    }
   ],
   "source": [
    "display(dataset.head())"
   ]
  },
  {
   "cell_type": "markdown",
   "metadata": {},
   "source": [
    "Data seems empty, I dont understand why."
   ]
  }
 ],
 "metadata": {
  "kernelspec": {
   "display_name": "thesis",
   "language": "python",
   "name": "python3"
  },
  "language_info": {
   "codemirror_mode": {
    "name": "ipython",
    "version": 3
   },
   "file_extension": ".py",
   "mimetype": "text/x-python",
   "name": "python",
   "nbconvert_exporter": "python",
   "pygments_lexer": "ipython3",
   "version": "3.10.13"
  }
 },
 "nbformat": 4,
 "nbformat_minor": 2
}
