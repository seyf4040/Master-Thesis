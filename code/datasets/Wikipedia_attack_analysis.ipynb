{
 "cells": [
  {
   "cell_type": "code",
   "execution_count": null,
   "metadata": {},
   "outputs": [
    {
     "name": "stderr",
     "output_type": "stream",
     "text": [
      "c:\\Users\\seyf\\anaconda3\\envs\\thesis\\lib\\site-packages\\tqdm\\auto.py:21: TqdmWarning: IProgress not found. Please update jupyter and ipywidgets. See https://ipywidgets.readthedocs.io/en/stable/user_install.html\n",
      "  from .autonotebook import tqdm as notebook_tqdm\n"
     ]
    }
   ],
   "source": [
    "import sys\n",
    "import os\n",
    "\n",
    "sys.path.append(os.path.abspath(\"C:/Users/seyf/Documents/GitHub/Master-Thesis/code\"))\n",
    "\n",
    "from utils import filter_labels_with_threshold\n",
    "from models_prediction_utils import predict_HuggingFace_models, predict_citizenlab_model\n",
    "\n",
    "import pandas as pd\n",
    "import matplotlib.pyplot as plt\n",
    "import seaborn as sns\n",
    "from sklearn.metrics import roc_curve, auc, accuracy_score\n",
    "\n",
    "from sklearn.linear_model import LogisticRegression\n",
    "from sklearn.feature_extraction.text import CountVectorizer, TfidfVectorizer\n",
    "\n",
    "from transformers import pipeline\n",
    "from transformers import AutoTokenizer, AutoModelForSequenceClassification"
   ]
  },
  {
   "cell_type": "code",
   "execution_count": 2,
   "metadata": {},
   "outputs": [],
   "source": [
    "# Paths\n",
    "samples_file_path = \"Wikipedia attack/Wikipedia_attack_annotated_comments.tsv\"\n",
    "annotations_file_path = \"Wikipedia attack/Wikipedia_attack_annotations.tsv\"\n",
    "\n",
    "# Loading files into DataFrames\n",
    "samples = pd.read_csv(samples_file_path, sep='\\t')\n",
    "annotations = pd.read_csv(annotations_file_path, sep='\\t')\n",
    "\n",
    "# Selecting necessary columns from the loaded DataFrames\n",
    "test_samples = samples[['rev_id', 'comment']]\n",
    "test_labels = annotations[['rev_id','attack']]\n",
    "\n",
    "# Display the first few rows\n",
    "# display(samples.head())\n",
    "# display(annotations.head())"
   ]
  },
  {
   "cell_type": "markdown",
   "metadata": {},
   "source": [
    "The data contains several annotation (from different annotatators). I decided to define a threshold and if the percentage of 'attack' annotations is higher or equal to this threshold then the sample is annotated as 'attack'.\n",
    "\n",
    "TODO: plot a graph for different values of the threshold"
   ]
  },
  {
   "cell_type": "code",
   "execution_count": 3,
   "metadata": {},
   "outputs": [],
   "source": [
    "# Step 1: Filter out rows in `test_labels` where `attack` is -1 \n",
    "# Keep only samples with available labels\n",
    "filtered_test_labels = test_labels[test_labels['attack'].isin([0.0, 1.0])]\n",
    "\n",
    "# Step 1: Apply filtering strategy with threshold (e.g., 0.6 means 60% of the annotations must agree, default is 0.0)\n",
    "filtered_test_labels_threshold = filter_labels_with_threshold(filtered_test_labels, threshold=0.5)\n",
    "\n",
    "# Step 2: Match the rev_id\n",
    "valid_ids_threshold = filtered_test_labels_threshold['rev_id']\n",
    "filtered_test_threshold = test_samples[test_samples['rev_id'].isin(valid_ids_threshold)]\n",
    "\n",
    "\n",
    "samples = filtered_test_threshold['comment']\n",
    "labels = filtered_test_labels_threshold['attack']\n",
    "\n",
    "# Replace NaN values with an empty string\n",
    "samples = test_samples['comment'].fillna('')\n",
    "# Convert all entries to string\n",
    "samples = samples.astype(str)\n",
    "# Remove control characters\n",
    "samples = samples.apply(lambda x: ''.join(c for c in x if c.isprintable()))\n",
    "# Lowercase and remove leading/trailing whitespaces\n",
    "samples = samples.apply(lambda x: x.lower().strip())"
   ]
  },
  {
   "cell_type": "code",
   "execution_count": 4,
   "metadata": {},
   "outputs": [
    {
     "data": {
      "image/png": "[encoded data removed]",
      "text/plain": [
       "<Figure size 1000x600 with 1 Axes>"
      ]
     },
     "metadata": {},
     "output_type": "display_data"
    }
   ],
   "source": [
    "# Calculate the length of each string in the 'samples' list\n",
    "lengths = samples.apply(len)\n",
    "\n",
    "# Create a histogram\n",
    "plt.figure(figsize=(10, 6))\n",
    "sns.histplot(lengths, kde=False, bins=30, color='blue')  # Adjust bins as needed\n",
    "plt.title('Distribution of Comment Lengths')\n",
    "plt.xlabel('Length of Comment (Number of Characters)')\n",
    "plt.ylabel('Frequency')\n",
    "\n",
    "# Display the plot\n",
    "plt.show()"
   ]
  },
  {
   "cell_type": "code",
   "execution_count": 5,
   "metadata": {},
   "outputs": [],
   "source": [
    "# test set size is 115864, computation time too long on my computer\n",
    "# test_set_size = 115864\n",
    "NB_SAMPLE = 500\n",
    "\n",
    "# Maximum length of a tokens\n",
    "MAX_LENGTH = 200"
   ]
  },
  {
   "cell_type": "markdown",
   "metadata": {},
   "source": [
    "# EthicalEye"
   ]
  },
  {
   "cell_type": "code",
   "execution_count": 6,
   "metadata": {},
   "outputs": [],
   "source": [
    "# autopilot-ai/EthicalEye\n",
    "EthicalEye_model = AutoModelForSequenceClassification.from_pretrained(\"autopilot-ai/EthicalEye\")\n",
    "EthicalEye_tokenizer = AutoTokenizer.from_pretrained(\"autopilot-ai/EthicalEye\")"
   ]
  },
  {
   "cell_type": "code",
   "execution_count": 7,
   "metadata": {},
   "outputs": [
    {
     "data": {
      "text/html": [
       "<div>\n",
       "<style scoped>\n",
       "    .dataframe tbody tr th:only-of-type {\n",
       "        vertical-align: middle;\n",
       "    }\n",
       "\n",
       "    .dataframe tbody tr th {\n",
       "        vertical-align: top;\n",
       "    }\n",
       "\n",
       "    .dataframe thead th {\n",
       "        text-align: right;\n",
       "    }\n",
       "</style>\n",
       "<table border=\"1\" class=\"dataframe\">\n",
       "  <thead>\n",
       "    <tr style=\"text-align: right;\">\n",
       "      <th></th>\n",
       "      <th>comment</th>\n",
       "      <th>non_safe_probability</th>\n",
       "    </tr>\n",
       "  </thead>\n",
       "  <tbody>\n",
       "    <tr>\n",
       "      <th>0</th>\n",
       "      <td>`-newline_tokenthis is not ``creative``.  thos...</td>\n",
       "      <td>0.026146</td>\n",
       "    </tr>\n",
       "    <tr>\n",
       "      <th>1</th>\n",
       "      <td>`newline_tokennewline_token:: the term ``stand...</td>\n",
       "      <td>0.007542</td>\n",
       "    </tr>\n",
       "    <tr>\n",
       "      <th>2</th>\n",
       "      <td>newline_tokennewline_tokentrue or false, the s...</td>\n",
       "      <td>0.002100</td>\n",
       "    </tr>\n",
       "    <tr>\n",
       "      <th>3</th>\n",
       "      <td>next, maybe you could work on being less conde...</td>\n",
       "      <td>0.929448</td>\n",
       "    </tr>\n",
       "    <tr>\n",
       "      <th>4</th>\n",
       "      <td>this page will need disambiguation.</td>\n",
       "      <td>0.000170</td>\n",
       "    </tr>\n",
       "    <tr>\n",
       "      <th>...</th>\n",
       "      <td>...</td>\n",
       "      <td>...</td>\n",
       "    </tr>\n",
       "    <tr>\n",
       "      <th>495</th>\n",
       "      <td>`::::::::a cheap excuse: ``quality`` is what p...</td>\n",
       "      <td>0.010677</td>\n",
       "    </tr>\n",
       "    <tr>\n",
       "      <th>496</th>\n",
       "      <td>one more thing- was there ever actually a vote...</td>\n",
       "      <td>0.000644</td>\n",
       "    </tr>\n",
       "    <tr>\n",
       "      <th>497</th>\n",
       "      <td>newline_token:::how in perun's sake he could h...</td>\n",
       "      <td>0.084108</td>\n",
       "    </tr>\n",
       "    <tr>\n",
       "      <th>498</th>\n",
       "      <td>newline_token:if you can find accurate numbers...</td>\n",
       "      <td>0.000218</td>\n",
       "    </tr>\n",
       "    <tr>\n",
       "      <th>499</th>\n",
       "      <td>in the opinion poll conducted by mac in 2000, ...</td>\n",
       "      <td>0.000840</td>\n",
       "    </tr>\n",
       "  </tbody>\n",
       "</table>\n",
       "<p>500 rows × 2 columns</p>\n",
       "</div>"
      ],
      "text/plain": [
       "                                               comment  non_safe_probability\n",
       "0    `-newline_tokenthis is not ``creative``.  thos...              0.026146\n",
       "1    `newline_tokennewline_token:: the term ``stand...              0.007542\n",
       "2    newline_tokennewline_tokentrue or false, the s...              0.002100\n",
       "3    next, maybe you could work on being less conde...              0.929448\n",
       "4                  this page will need disambiguation.              0.000170\n",
       "..                                                 ...                   ...\n",
       "495  `::::::::a cheap excuse: ``quality`` is what p...              0.010677\n",
       "496  one more thing- was there ever actually a vote...              0.000644\n",
       "497  newline_token:::how in perun's sake he could h...              0.084108\n",
       "498  newline_token:if you can find accurate numbers...              0.000218\n",
       "499  in the opinion poll conducted by mac in 2000, ...              0.000840\n",
       "\n",
       "[500 rows x 2 columns]"
      ]
     },
     "metadata": {},
     "output_type": "display_data"
    }
   ],
   "source": [
    "EthicalEye_predictions_df = predict_HuggingFace_models(\"EthicalEye\", EthicalEye_model, EthicalEye_tokenizer, samples, NB_SAMPLE, MAX_LENGTH)\n",
    "\n",
    "display(EthicalEye_predictions_df)"
   ]
  },
  {
   "cell_type": "markdown",
   "metadata": {},
   "source": [
    "# KoalaAI/TextClassification"
   ]
  },
  {
   "cell_type": "code",
   "execution_count": 8,
   "metadata": {},
   "outputs": [],
   "source": [
    "# Load the model and tokenizer\n",
    "KoalaAI_model = AutoModelForSequenceClassification.from_pretrained(\"KoalaAI/Text-Moderation\")\n",
    "KoalaAI_tokenizer = AutoTokenizer.from_pretrained(\"KoalaAI/Text-Moderation\")"
   ]
  },
  {
   "cell_type": "code",
   "execution_count": 9,
   "metadata": {},
   "outputs": [
    {
     "data": {
      "text/html": [
       "<div>\n",
       "<style scoped>\n",
       "    .dataframe tbody tr th:only-of-type {\n",
       "        vertical-align: middle;\n",
       "    }\n",
       "\n",
       "    .dataframe tbody tr th {\n",
       "        vertical-align: top;\n",
       "    }\n",
       "\n",
       "    .dataframe thead th {\n",
       "        text-align: right;\n",
       "    }\n",
       "</style>\n",
       "<table border=\"1\" class=\"dataframe\">\n",
       "  <thead>\n",
       "    <tr style=\"text-align: right;\">\n",
       "      <th></th>\n",
       "      <th>comment</th>\n",
       "      <th>non_safe_probability</th>\n",
       "    </tr>\n",
       "  </thead>\n",
       "  <tbody>\n",
       "    <tr>\n",
       "      <th>0</th>\n",
       "      <td>`-newline_tokenthis is not ``creative``.  thos...</td>\n",
       "      <td>0.006348</td>\n",
       "    </tr>\n",
       "    <tr>\n",
       "      <th>1</th>\n",
       "      <td>`newline_tokennewline_token:: the term ``stand...</td>\n",
       "      <td>0.002227</td>\n",
       "    </tr>\n",
       "    <tr>\n",
       "      <th>2</th>\n",
       "      <td>newline_tokennewline_tokentrue or false, the s...</td>\n",
       "      <td>0.003852</td>\n",
       "    </tr>\n",
       "    <tr>\n",
       "      <th>3</th>\n",
       "      <td>next, maybe you could work on being less conde...</td>\n",
       "      <td>0.002053</td>\n",
       "    </tr>\n",
       "    <tr>\n",
       "      <th>4</th>\n",
       "      <td>this page will need disambiguation.</td>\n",
       "      <td>0.002997</td>\n",
       "    </tr>\n",
       "    <tr>\n",
       "      <th>...</th>\n",
       "      <td>...</td>\n",
       "      <td>...</td>\n",
       "    </tr>\n",
       "    <tr>\n",
       "      <th>495</th>\n",
       "      <td>`::::::::a cheap excuse: ``quality`` is what p...</td>\n",
       "      <td>0.003577</td>\n",
       "    </tr>\n",
       "    <tr>\n",
       "      <th>496</th>\n",
       "      <td>one more thing- was there ever actually a vote...</td>\n",
       "      <td>0.002288</td>\n",
       "    </tr>\n",
       "    <tr>\n",
       "      <th>497</th>\n",
       "      <td>newline_token:::how in perun's sake he could h...</td>\n",
       "      <td>0.002535</td>\n",
       "    </tr>\n",
       "    <tr>\n",
       "      <th>498</th>\n",
       "      <td>newline_token:if you can find accurate numbers...</td>\n",
       "      <td>0.001665</td>\n",
       "    </tr>\n",
       "    <tr>\n",
       "      <th>499</th>\n",
       "      <td>in the opinion poll conducted by mac in 2000, ...</td>\n",
       "      <td>0.005016</td>\n",
       "    </tr>\n",
       "  </tbody>\n",
       "</table>\n",
       "<p>500 rows × 2 columns</p>\n",
       "</div>"
      ],
      "text/plain": [
       "                                               comment  non_safe_probability\n",
       "0    `-newline_tokenthis is not ``creative``.  thos...              0.006348\n",
       "1    `newline_tokennewline_token:: the term ``stand...              0.002227\n",
       "2    newline_tokennewline_tokentrue or false, the s...              0.003852\n",
       "3    next, maybe you could work on being less conde...              0.002053\n",
       "4                  this page will need disambiguation.              0.002997\n",
       "..                                                 ...                   ...\n",
       "495  `::::::::a cheap excuse: ``quality`` is what p...              0.003577\n",
       "496  one more thing- was there ever actually a vote...              0.002288\n",
       "497  newline_token:::how in perun's sake he could h...              0.002535\n",
       "498  newline_token:if you can find accurate numbers...              0.001665\n",
       "499  in the opinion poll conducted by mac in 2000, ...              0.005016\n",
       "\n",
       "[500 rows x 2 columns]"
      ]
     },
     "metadata": {},
     "output_type": "display_data"
    }
   ],
   "source": [
    "KoalaAI_predictions_df = predict_HuggingFace_models(\"KoalaAI\", KoalaAI_model, KoalaAI_tokenizer, samples, NB_SAMPLE, MAX_LENGTH)\n",
    "\n",
    "# Print the DataFrame\n",
    "display(KoalaAI_predictions_df)\n"
   ]
  },
  {
   "cell_type": "markdown",
   "metadata": {},
   "source": [
    "# citizenlab/distilbert-base-multilingual-cased-toxicity "
   ]
  },
  {
   "cell_type": "code",
   "execution_count": 10,
   "metadata": {},
   "outputs": [],
   "source": [
    "# citizenlab/distilbert-base-multilingual-cased-toxicity \n",
    "citizenlab_model_path = \"citizenlab/distilbert-base-multilingual-cased-toxicity\"\n",
    "citizenlab_toxicity_classifier = pipeline(\"text-classification\", model=citizenlab_model_path, tokenizer=citizenlab_model_path)"
   ]
  },
  {
   "cell_type": "code",
   "execution_count": 11,
   "metadata": {},
   "outputs": [
    {
     "data": {
      "text/html": [
       "<div>\n",
       "<style scoped>\n",
       "    .dataframe tbody tr th:only-of-type {\n",
       "        vertical-align: middle;\n",
       "    }\n",
       "\n",
       "    .dataframe tbody tr th {\n",
       "        vertical-align: top;\n",
       "    }\n",
       "\n",
       "    .dataframe thead th {\n",
       "        text-align: right;\n",
       "    }\n",
       "</style>\n",
       "<table border=\"1\" class=\"dataframe\">\n",
       "  <thead>\n",
       "    <tr style=\"text-align: right;\">\n",
       "      <th></th>\n",
       "      <th>comment</th>\n",
       "      <th>non_safe_probability</th>\n",
       "    </tr>\n",
       "  </thead>\n",
       "  <tbody>\n",
       "    <tr>\n",
       "      <th>0</th>\n",
       "      <td>`-newline_tokenthis is not ``creative``.  thos...</td>\n",
       "      <td>0.004266</td>\n",
       "    </tr>\n",
       "    <tr>\n",
       "      <th>1</th>\n",
       "      <td>`newline_tokennewline_token:: the term ``stand...</td>\n",
       "      <td>0.001312</td>\n",
       "    </tr>\n",
       "    <tr>\n",
       "      <th>2</th>\n",
       "      <td>newline_tokennewline_tokentrue or false, the s...</td>\n",
       "      <td>0.001990</td>\n",
       "    </tr>\n",
       "    <tr>\n",
       "      <th>3</th>\n",
       "      <td>next, maybe you could work on being less conde...</td>\n",
       "      <td>0.276436</td>\n",
       "    </tr>\n",
       "    <tr>\n",
       "      <th>4</th>\n",
       "      <td>this page will need disambiguation.</td>\n",
       "      <td>0.001082</td>\n",
       "    </tr>\n",
       "    <tr>\n",
       "      <th>...</th>\n",
       "      <td>...</td>\n",
       "      <td>...</td>\n",
       "    </tr>\n",
       "    <tr>\n",
       "      <th>495</th>\n",
       "      <td>`::::::::a cheap excuse: ``quality`` is what p...</td>\n",
       "      <td>0.016009</td>\n",
       "    </tr>\n",
       "    <tr>\n",
       "      <th>496</th>\n",
       "      <td>one more thing- was there ever actually a vote...</td>\n",
       "      <td>0.002999</td>\n",
       "    </tr>\n",
       "    <tr>\n",
       "      <th>497</th>\n",
       "      <td>newline_token:::how in perun's sake he could h...</td>\n",
       "      <td>0.037807</td>\n",
       "    </tr>\n",
       "    <tr>\n",
       "      <th>498</th>\n",
       "      <td>newline_token:if you can find accurate numbers...</td>\n",
       "      <td>0.000938</td>\n",
       "    </tr>\n",
       "    <tr>\n",
       "      <th>499</th>\n",
       "      <td>in the opinion poll conducted by mac in 2000, ...</td>\n",
       "      <td>0.014590</td>\n",
       "    </tr>\n",
       "  </tbody>\n",
       "</table>\n",
       "<p>500 rows × 2 columns</p>\n",
       "</div>"
      ],
      "text/plain": [
       "                                               comment  non_safe_probability\n",
       "0    `-newline_tokenthis is not ``creative``.  thos...              0.004266\n",
       "1    `newline_tokennewline_token:: the term ``stand...              0.001312\n",
       "2    newline_tokennewline_tokentrue or false, the s...              0.001990\n",
       "3    next, maybe you could work on being less conde...              0.276436\n",
       "4                  this page will need disambiguation.              0.001082\n",
       "..                                                 ...                   ...\n",
       "495  `::::::::a cheap excuse: ``quality`` is what p...              0.016009\n",
       "496  one more thing- was there ever actually a vote...              0.002999\n",
       "497  newline_token:::how in perun's sake he could h...              0.037807\n",
       "498  newline_token:if you can find accurate numbers...              0.000938\n",
       "499  in the opinion poll conducted by mac in 2000, ...              0.014590\n",
       "\n",
       "[500 rows x 2 columns]"
      ]
     },
     "metadata": {},
     "output_type": "display_data"
    }
   ],
   "source": [
    "citizenlab_predictions_df = predict_citizenlab_model(citizenlab_toxicity_classifier, samples, NB_SAMPLE, MAX_LENGTH)\n",
    "\n",
    "# Print the DataFrame\n",
    "display(citizenlab_predictions_df)"
   ]
  },
  {
   "cell_type": "markdown",
   "metadata": {},
   "source": [
    "# ROC curve plot + AUC score\n",
    "Comparing ROC and AUC for every model on Kaggle Toxic Comment Challenge dataset."
   ]
  },
  {
   "cell_type": "code",
   "execution_count": 14,
   "metadata": {},
   "outputs": [
    {
     "data": {
      "image/png": "[encoded data removed]",
      "text/plain": [
       "<Figure size 800x600 with 1 Axes>"
      ]
     },
     "metadata": {},
     "output_type": "display_data"
    },
    {
     "name": "stdout",
     "output_type": "stream",
     "text": [
      "\n",
      "Model Performance Metrics:\n",
      "\n",
      "|    | Model      |      AUC |   Accuracy |\n",
      "|---:|:-----------|---------:|-----------:|\n",
      "|  0 | EthicalEye | 0.880904 |      0.968 |\n",
      "|  1 | KoalaAI    | 0.821862 |      0.99  |\n",
      "|  2 | citizenlab | 0.803306 |      0.988 |\n"
     ]
    }
   ],
   "source": [
    "# y_true should be a 1D array of true binary labels (0 or 1)\n",
    "y_true = labels[:NB_SAMPLE]  # ground truth labels\n",
    "\n",
    "# Threshold to classify probabilities as positive (1) or negative (0)\n",
    "threshold = 0.5\n",
    "\n",
    "# Dictionary to store model names and their predictions\n",
    "models_predictions = {\n",
    "    'EthicalEye': EthicalEye_predictions_df['non_safe_probability'],\n",
    "    'KoalaAI': KoalaAI_predictions_df['non_safe_probability'],\n",
    "    'citizenlab': citizenlab_predictions_df['non_safe_probability']\n",
    "    # Add more models here if needed\n",
    "}\n",
    "\n",
    "# Data structure to store metrics for each model\n",
    "metrics_data = []\n",
    "\n",
    "# Initialize plot\n",
    "plt.figure(figsize=(8, 6))\n",
    "\n",
    "# Loop over each model and compute ROC and AUC\n",
    "for model_name, y_pred in models_predictions.items():\n",
    "    fpr, tpr, _ = roc_curve(y_true, y_pred)\n",
    "    roc_auc = auc(fpr, tpr)\n",
    "    \n",
    "    # Calculate binary predictions using the threshold\n",
    "    y_pred_binary = (y_pred >= threshold).astype(int)\n",
    "    \n",
    "    # Calculate accuracy\n",
    "    accuracy = accuracy_score(y_true, y_pred_binary)\n",
    "\n",
    "    # Store the metrics in a dictionary\n",
    "    metrics_data.append({\n",
    "        'Model': model_name,\n",
    "        'AUC': roc_auc,\n",
    "        'Accuracy': accuracy\n",
    "    })\n",
    "    \n",
    "    # Plot ROC curve\n",
    "    plt.plot(fpr, tpr, lw=2, label=f'{model_name} ROC curve (AUC = {roc_auc:.2f}, Accuracy = {accuracy:.2f})')\n",
    "\n",
    "# Plot the diagonal line (random guess)\n",
    "plt.plot([0, 1], [0, 1], color='gray', linestyle='--')\n",
    "\n",
    "# Configure plot\n",
    "plt.xlim([0.0, 1.03])\n",
    "plt.ylim([0.0, 1.04])\n",
    "plt.xlabel('False Positive Rate')\n",
    "plt.ylabel('True Positive Rate')\n",
    "plt.title('Receiver Operating Characteristic (ROC) Curve')\n",
    "plt.legend(loc=\"lower right\")\n",
    "plt.grid()\n",
    "plt.show()\n",
    "\n",
    "# Create a DataFrame from the collected metrics data\n",
    "metrics_df = pd.DataFrame(metrics_data)\n",
    "\n",
    "# Display the table of metrics\n",
    "print(\"\\nModel Performance Metrics:\\n\")\n",
    "print(metrics_df.to_markdown())"
   ]
  }
 ],
 "metadata": {
  "kernelspec": {
   "display_name": "thesis",
   "language": "python",
   "name": "python3"
  },
  "language_info": {
   "codemirror_mode": {
    "name": "ipython",
    "version": 3
   },
   "file_extension": ".py",
   "mimetype": "text/x-python",
   "name": "python",
   "nbconvert_exporter": "python",
   "pygments_lexer": "ipython3",
   "version": "3.10.13"
  }
 },
 "nbformat": 4,
 "nbformat_minor": 2
}
