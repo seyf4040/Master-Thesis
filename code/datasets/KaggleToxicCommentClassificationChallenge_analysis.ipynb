{
 "cells": [
  {
   "cell_type": "code",
   "execution_count": 1,
   "metadata": {},
   "outputs": [
    {
     "name": "stderr",
     "output_type": "stream",
     "text": [
      "c:\\Users\\seyf\\anaconda3\\envs\\thesis\\lib\\site-packages\\tqdm\\auto.py:21: TqdmWarning: IProgress not found. Please update jupyter and ipywidgets. See https://ipywidgets.readthedocs.io/en/stable/user_install.html\n",
      "  from .autonotebook import tqdm as notebook_tqdm\n"
     ]
    }
   ],
   "source": [
    "import sys\n",
    "import os\n",
    "\n",
    "sys.path.append(os.path.abspath(\"C:/Users/seyf/Documents/GitHub/Master-Thesis/code\"))\n",
    "\n",
    "from models_prediction_utils import predict_HuggingFace_models, predict_citizenlab_model\n",
    "\n",
    "import pandas as pd, numpy as np\n",
    "import matplotlib.pyplot as plt\n",
    "import seaborn as sns\n",
    "from sklearn.metrics import roc_curve, auc, accuracy_score\n",
    "\n",
    "from sklearn.linear_model import LogisticRegression\n",
    "from sklearn.feature_extraction.text import CountVectorizer, TfidfVectorizer\n",
    "\n",
    "from transformers import pipeline\n",
    "from transformers import AutoTokenizer, AutoModelForSequenceClassification"
   ]
  },
  {
   "cell_type": "code",
   "execution_count": 2,
   "metadata": {},
   "outputs": [],
   "source": [
    "# Loading test set\n",
    "test = pd.read_csv('Kaggle Toxic Comment Classification Challenge/input/test.csv')\n",
    "test_labels = pd.read_csv('Kaggle Toxic Comment Classification Challenge/test_labels.csv')\n",
    "\n",
    "# display(test.head())\n",
    "# display(test_labels.head())"
   ]
  },
  {
   "cell_type": "code",
   "execution_count": 3,
   "metadata": {},
   "outputs": [],
   "source": [
    "# Step 1: Filter out rows in `test_labels` where `toxic` is -1 \n",
    "# Keep only samples with available labels\n",
    "filtered_test_labels = test_labels[test_labels['toxic'] != -1]\n",
    "\n",
    "# Step 2: Get the corresponding IDs that remain after filtering\n",
    "valid_ids = filtered_test_labels['id']\n",
    "\n",
    "# Step 3: Filter `test` DataFrame to keep only rows with IDs in `valid_ids`\n",
    "filtered_test = test[test['id'].isin(valid_ids)]\n",
    "\n",
    "\n",
    "samples = filtered_test['comment_text']\n",
    "y = filtered_test_labels['toxic']\n",
    "\n",
    "# Replace NaN values with an empty string\n",
    "samples = samples.fillna('')\n",
    "# Convert all entries to string\n",
    "samples = samples.astype(str)\n",
    "# Remove control characters\n",
    "samples = samples.apply(lambda x: ''.join(c for c in x if c.isprintable()))\n",
    "# Lowercase and remove leading/trailing whitespaces\n",
    "samples = samples.apply(lambda x: x.lower().strip())"
   ]
  },
  {
   "cell_type": "code",
   "execution_count": 4,
   "metadata": {},
   "outputs": [
    {
     "data": {
      "image/png": "[encoded data removed]",
      "text/plain": [
       "<Figure size 1000x600 with 1 Axes>"
      ]
     },
     "metadata": {},
     "output_type": "display_data"
    }
   ],
   "source": [
    "\n",
    "# Calculate the length of each string in the 'samples' list\n",
    "lengths = samples.apply(len)\n",
    "\n",
    "# Create a histogram\n",
    "plt.figure(figsize=(10, 6))\n",
    "sns.histplot(lengths, kde=False, bins=30, color='blue')  # Adjust bins as needed\n",
    "plt.title('Distribution of Comment Lengths')\n",
    "plt.xlabel('Length of Comment (Number of Characters)')\n",
    "plt.ylabel('Frequency')\n",
    "\n",
    "# Display the plot\n",
    "plt.show()"
   ]
  },
  {
   "cell_type": "code",
   "execution_count": 5,
   "metadata": {},
   "outputs": [],
   "source": [
    "# test set size is 63978, computation time too long on my computer\n",
    "# NB_SAMPLE = 63978\n",
    "NB_SAMPLE = 500\n",
    "\n",
    "# Maximum length of a tokens\n",
    "MAX_LENGTH = 200"
   ]
  },
  {
   "cell_type": "markdown",
   "metadata": {},
   "source": [
    "# autopilot-ai/EthicalEye"
   ]
  },
  {
   "cell_type": "code",
   "execution_count": 6,
   "metadata": {},
   "outputs": [],
   "source": [
    "# autopilot-ai/EthicalEye\n",
    "EthicalEye_model = AutoModelForSequenceClassification.from_pretrained(\"autopilot-ai/EthicalEye\")\n",
    "EthicalEye_tokenizer = AutoTokenizer.from_pretrained(\"autopilot-ai/EthicalEye\")"
   ]
  },
  {
   "cell_type": "code",
   "execution_count": 7,
   "metadata": {},
   "outputs": [
    {
     "data": {
      "text/html": [
       "<div>\n",
       "<style scoped>\n",
       "    .dataframe tbody tr th:only-of-type {\n",
       "        vertical-align: middle;\n",
       "    }\n",
       "\n",
       "    .dataframe tbody tr th {\n",
       "        vertical-align: top;\n",
       "    }\n",
       "\n",
       "    .dataframe thead th {\n",
       "        text-align: right;\n",
       "    }\n",
       "</style>\n",
       "<table border=\"1\" class=\"dataframe\">\n",
       "  <thead>\n",
       "    <tr style=\"text-align: right;\">\n",
       "      <th></th>\n",
       "      <th>comment</th>\n",
       "      <th>non_safe_probability</th>\n",
       "    </tr>\n",
       "  </thead>\n",
       "  <tbody>\n",
       "    <tr>\n",
       "      <th>0</th>\n",
       "      <td>thank you for understanding. i think very high...</td>\n",
       "      <td>0.000263</td>\n",
       "    </tr>\n",
       "    <tr>\n",
       "      <th>1</th>\n",
       "      <td>:dear god this site is horrible.</td>\n",
       "      <td>0.259078</td>\n",
       "    </tr>\n",
       "    <tr>\n",
       "      <th>2</th>\n",
       "      <td>\"::: somebody will invariably try to add relig...</td>\n",
       "      <td>0.831513</td>\n",
       "    </tr>\n",
       "    <tr>\n",
       "      <th>3</th>\n",
       "      <td>\"  it says it right there that it is a type. t...</td>\n",
       "      <td>0.003455</td>\n",
       "    </tr>\n",
       "    <tr>\n",
       "      <th>4</th>\n",
       "      <td>\"  == before adding a new product to the list,...</td>\n",
       "      <td>0.000275</td>\n",
       "    </tr>\n",
       "    <tr>\n",
       "      <th>...</th>\n",
       "      <td>...</td>\n",
       "      <td>...</td>\n",
       "    </tr>\n",
       "    <tr>\n",
       "      <th>495</th>\n",
       "      <td>\"  == maryam babangida ==  your recent drastic...</td>\n",
       "      <td>0.026814</td>\n",
       "    </tr>\n",
       "    <tr>\n",
       "      <th>496</th>\n",
       "      <td>c  | b1  = yes  | b2  =   | b3  = yes  | b4  =...</td>\n",
       "      <td>0.002929</td>\n",
       "    </tr>\n",
       "    <tr>\n",
       "      <th>497</th>\n",
       "      <td>==tunnels wiki project proposal===  we meet ag...</td>\n",
       "      <td>0.000591</td>\n",
       "    </tr>\n",
       "    <tr>\n",
       "      <th>498</th>\n",
       "      <td>this comment is signed by tony mansell</td>\n",
       "      <td>0.001556</td>\n",
       "    </tr>\n",
       "    <tr>\n",
       "      <th>499</th>\n",
       "      <td>*oppose per above.</td>\n",
       "      <td>0.000875</td>\n",
       "    </tr>\n",
       "  </tbody>\n",
       "</table>\n",
       "<p>500 rows × 2 columns</p>\n",
       "</div>"
      ],
      "text/plain": [
       "                                               comment  non_safe_probability\n",
       "0    thank you for understanding. i think very high...              0.000263\n",
       "1                     :dear god this site is horrible.              0.259078\n",
       "2    \"::: somebody will invariably try to add relig...              0.831513\n",
       "3    \"  it says it right there that it is a type. t...              0.003455\n",
       "4    \"  == before adding a new product to the list,...              0.000275\n",
       "..                                                 ...                   ...\n",
       "495  \"  == maryam babangida ==  your recent drastic...              0.026814\n",
       "496  c  | b1  = yes  | b2  =   | b3  = yes  | b4  =...              0.002929\n",
       "497  ==tunnels wiki project proposal===  we meet ag...              0.000591\n",
       "498             this comment is signed by tony mansell              0.001556\n",
       "499                                 *oppose per above.              0.000875\n",
       "\n",
       "[500 rows x 2 columns]"
      ]
     },
     "metadata": {},
     "output_type": "display_data"
    }
   ],
   "source": [
    "EthicalEye_predictions_df = predict_HuggingFace_models(\"EthicalEye\", EthicalEye_model, EthicalEye_tokenizer, samples, NB_SAMPLE, MAX_LENGTH)\n",
    "\n",
    "display(EthicalEye_predictions_df)"
   ]
  },
  {
   "cell_type": "markdown",
   "metadata": {},
   "source": [
    "# KoalaAI/TextClassification"
   ]
  },
  {
   "cell_type": "code",
   "execution_count": 8,
   "metadata": {},
   "outputs": [],
   "source": [
    "# Load the model and tokenizer\n",
    "KoalaAI_model = AutoModelForSequenceClassification.from_pretrained(\"KoalaAI/Text-Moderation\")\n",
    "KoalaAI_tokenizer = AutoTokenizer.from_pretrained(\"KoalaAI/Text-Moderation\")"
   ]
  },
  {
   "cell_type": "code",
   "execution_count": 9,
   "metadata": {},
   "outputs": [
    {
     "data": {
      "text/html": [
       "<div>\n",
       "<style scoped>\n",
       "    .dataframe tbody tr th:only-of-type {\n",
       "        vertical-align: middle;\n",
       "    }\n",
       "\n",
       "    .dataframe tbody tr th {\n",
       "        vertical-align: top;\n",
       "    }\n",
       "\n",
       "    .dataframe thead th {\n",
       "        text-align: right;\n",
       "    }\n",
       "</style>\n",
       "<table border=\"1\" class=\"dataframe\">\n",
       "  <thead>\n",
       "    <tr style=\"text-align: right;\">\n",
       "      <th></th>\n",
       "      <th>comment</th>\n",
       "      <th>non_safe_probability</th>\n",
       "    </tr>\n",
       "  </thead>\n",
       "  <tbody>\n",
       "    <tr>\n",
       "      <th>0</th>\n",
       "      <td>thank you for understanding. i think very high...</td>\n",
       "      <td>0.002364</td>\n",
       "    </tr>\n",
       "    <tr>\n",
       "      <th>1</th>\n",
       "      <td>:dear god this site is horrible.</td>\n",
       "      <td>0.015980</td>\n",
       "    </tr>\n",
       "    <tr>\n",
       "      <th>2</th>\n",
       "      <td>\"::: somebody will invariably try to add relig...</td>\n",
       "      <td>0.122420</td>\n",
       "    </tr>\n",
       "    <tr>\n",
       "      <th>3</th>\n",
       "      <td>\"  it says it right there that it is a type. t...</td>\n",
       "      <td>0.004228</td>\n",
       "    </tr>\n",
       "    <tr>\n",
       "      <th>4</th>\n",
       "      <td>\"  == before adding a new product to the list,...</td>\n",
       "      <td>0.001844</td>\n",
       "    </tr>\n",
       "    <tr>\n",
       "      <th>...</th>\n",
       "      <td>...</td>\n",
       "      <td>...</td>\n",
       "    </tr>\n",
       "    <tr>\n",
       "      <th>495</th>\n",
       "      <td>\"  == maryam babangida ==  your recent drastic...</td>\n",
       "      <td>0.056218</td>\n",
       "    </tr>\n",
       "    <tr>\n",
       "      <th>496</th>\n",
       "      <td>c  | b1  = yes  | b2  =   | b3  = yes  | b4  =...</td>\n",
       "      <td>0.002057</td>\n",
       "    </tr>\n",
       "    <tr>\n",
       "      <th>497</th>\n",
       "      <td>==tunnels wiki project proposal===  we meet ag...</td>\n",
       "      <td>0.002036</td>\n",
       "    </tr>\n",
       "    <tr>\n",
       "      <th>498</th>\n",
       "      <td>this comment is signed by tony mansell</td>\n",
       "      <td>0.004928</td>\n",
       "    </tr>\n",
       "    <tr>\n",
       "      <th>499</th>\n",
       "      <td>*oppose per above.</td>\n",
       "      <td>0.002386</td>\n",
       "    </tr>\n",
       "  </tbody>\n",
       "</table>\n",
       "<p>500 rows × 2 columns</p>\n",
       "</div>"
      ],
      "text/plain": [
       "                                               comment  non_safe_probability\n",
       "0    thank you for understanding. i think very high...              0.002364\n",
       "1                     :dear god this site is horrible.              0.015980\n",
       "2    \"::: somebody will invariably try to add relig...              0.122420\n",
       "3    \"  it says it right there that it is a type. t...              0.004228\n",
       "4    \"  == before adding a new product to the list,...              0.001844\n",
       "..                                                 ...                   ...\n",
       "495  \"  == maryam babangida ==  your recent drastic...              0.056218\n",
       "496  c  | b1  = yes  | b2  =   | b3  = yes  | b4  =...              0.002057\n",
       "497  ==tunnels wiki project proposal===  we meet ag...              0.002036\n",
       "498             this comment is signed by tony mansell              0.004928\n",
       "499                                 *oppose per above.              0.002386\n",
       "\n",
       "[500 rows x 2 columns]"
      ]
     },
     "metadata": {},
     "output_type": "display_data"
    }
   ],
   "source": [
    "KoalaAI_predictions_df = predict_HuggingFace_models(\"KoalaAI\", KoalaAI_model, KoalaAI_tokenizer, samples, NB_SAMPLE, MAX_LENGTH)\n",
    "\n",
    "# Print the DataFrame\n",
    "display(KoalaAI_predictions_df)\n"
   ]
  },
  {
   "cell_type": "markdown",
   "metadata": {},
   "source": [
    "# citizenlab/distilbert-base-multilingual-cased-toxicity "
   ]
  },
  {
   "cell_type": "code",
   "execution_count": 10,
   "metadata": {},
   "outputs": [],
   "source": [
    "# citizenlab/distilbert-base-multilingual-cased-toxicity \n",
    "citizenlab_model_path = \"citizenlab/distilbert-base-multilingual-cased-toxicity\"\n",
    "citizenlab_toxicity_classifier = pipeline(\"text-classification\", model=citizenlab_model_path, tokenizer=citizenlab_model_path)"
   ]
  },
  {
   "cell_type": "code",
   "execution_count": 11,
   "metadata": {},
   "outputs": [
    {
     "data": {
      "text/html": [
       "<div>\n",
       "<style scoped>\n",
       "    .dataframe tbody tr th:only-of-type {\n",
       "        vertical-align: middle;\n",
       "    }\n",
       "\n",
       "    .dataframe tbody tr th {\n",
       "        vertical-align: top;\n",
       "    }\n",
       "\n",
       "    .dataframe thead th {\n",
       "        text-align: right;\n",
       "    }\n",
       "</style>\n",
       "<table border=\"1\" class=\"dataframe\">\n",
       "  <thead>\n",
       "    <tr style=\"text-align: right;\">\n",
       "      <th></th>\n",
       "      <th>comment</th>\n",
       "      <th>non_safe_probability</th>\n",
       "    </tr>\n",
       "  </thead>\n",
       "  <tbody>\n",
       "    <tr>\n",
       "      <th>0</th>\n",
       "      <td>thank you for understanding. i think very high...</td>\n",
       "      <td>0.000959</td>\n",
       "    </tr>\n",
       "    <tr>\n",
       "      <th>1</th>\n",
       "      <td>:dear god this site is horrible.</td>\n",
       "      <td>0.002999</td>\n",
       "    </tr>\n",
       "    <tr>\n",
       "      <th>2</th>\n",
       "      <td>\"::: somebody will invariably try to add relig...</td>\n",
       "      <td>0.067027</td>\n",
       "    </tr>\n",
       "    <tr>\n",
       "      <th>3</th>\n",
       "      <td>\"  it says it right there that it is a type. t...</td>\n",
       "      <td>0.004718</td>\n",
       "    </tr>\n",
       "    <tr>\n",
       "      <th>4</th>\n",
       "      <td>\"  == before adding a new product to the list,...</td>\n",
       "      <td>0.000750</td>\n",
       "    </tr>\n",
       "    <tr>\n",
       "      <th>...</th>\n",
       "      <td>...</td>\n",
       "      <td>...</td>\n",
       "    </tr>\n",
       "    <tr>\n",
       "      <th>495</th>\n",
       "      <td>\"  == maryam babangida ==  your recent drastic...</td>\n",
       "      <td>0.001290</td>\n",
       "    </tr>\n",
       "    <tr>\n",
       "      <th>496</th>\n",
       "      <td>c  | b1  = yes  | b2  =   | b3  = yes  | b4  =...</td>\n",
       "      <td>0.150544</td>\n",
       "    </tr>\n",
       "    <tr>\n",
       "      <th>497</th>\n",
       "      <td>==tunnels wiki project proposal===  we meet ag...</td>\n",
       "      <td>0.001239</td>\n",
       "    </tr>\n",
       "    <tr>\n",
       "      <th>498</th>\n",
       "      <td>this comment is signed by tony mansell</td>\n",
       "      <td>0.006390</td>\n",
       "    </tr>\n",
       "    <tr>\n",
       "      <th>499</th>\n",
       "      <td>*oppose per above.</td>\n",
       "      <td>0.001639</td>\n",
       "    </tr>\n",
       "  </tbody>\n",
       "</table>\n",
       "<p>500 rows × 2 columns</p>\n",
       "</div>"
      ],
      "text/plain": [
       "                                               comment  non_safe_probability\n",
       "0    thank you for understanding. i think very high...              0.000959\n",
       "1                     :dear god this site is horrible.              0.002999\n",
       "2    \"::: somebody will invariably try to add relig...              0.067027\n",
       "3    \"  it says it right there that it is a type. t...              0.004718\n",
       "4    \"  == before adding a new product to the list,...              0.000750\n",
       "..                                                 ...                   ...\n",
       "495  \"  == maryam babangida ==  your recent drastic...              0.001290\n",
       "496  c  | b1  = yes  | b2  =   | b3  = yes  | b4  =...              0.150544\n",
       "497  ==tunnels wiki project proposal===  we meet ag...              0.001239\n",
       "498             this comment is signed by tony mansell              0.006390\n",
       "499                                 *oppose per above.              0.001639\n",
       "\n",
       "[500 rows x 2 columns]"
      ]
     },
     "metadata": {},
     "output_type": "display_data"
    }
   ],
   "source": [
    "citizenlab_predictions_df = predict_citizenlab_model(citizenlab_toxicity_classifier, samples, NB_SAMPLE, MAX_LENGTH)\n",
    "\n",
    "# Print the DataFrame\n",
    "display(citizenlab_predictions_df) "
   ]
  },
  {
   "cell_type": "markdown",
   "metadata": {},
   "source": [
    "# ROC curve plot + AUC score\n",
    "Comparing ROC and AUC for every model on Kaggle Toxic Comment Challenge dataset."
   ]
  },
  {
   "cell_type": "code",
   "execution_count": 12,
   "metadata": {},
   "outputs": [
    {
     "data": {
      "image/png": "[encoded data removed]",
      "text/plain": [
       "<Figure size 800x600 with 1 Axes>"
      ]
     },
     "metadata": {},
     "output_type": "display_data"
    },
    {
     "name": "stdout",
     "output_type": "stream",
     "text": [
      "\n",
      "Model Performance Metrics:\n",
      "\n",
      "     Model      AUC  Accuracy\n",
      "EthicalEye 0.977854     0.874\n",
      "   KoalaAI 0.928208     0.922\n",
      "citizenlab 0.758994     0.916\n"
     ]
    }
   ],
   "source": [
    "# y_true should be a 1D array of true binary labels (0 or 1)\n",
    "y_true = y[:NB_SAMPLE]  # ground truth labels\n",
    "\n",
    "\n",
    "# Threshold to classify probabilities as positive (1) or negative (0)\n",
    "threshold = 0.5\n",
    "\n",
    "# Dictionary to store model names and their predictions\n",
    "models_predictions = {\n",
    "    'EthicalEye': EthicalEye_predictions_df['non_safe_probability'],\n",
    "    'KoalaAI': KoalaAI_predictions_df['non_safe_probability'],\n",
    "    'citizenlab': citizenlab_predictions_df['non_safe_probability']\n",
    "    # Add more models here if needed\n",
    "}\n",
    "\n",
    "# Data structure to store metrics for each model\n",
    "metrics_data = []\n",
    "\n",
    "# Initialize plot\n",
    "plt.figure(figsize=(8, 6))\n",
    "\n",
    "# Loop over each model and compute ROC and AUC\n",
    "for model_name, y_pred in models_predictions.items():\n",
    "    fpr, tpr, _ = roc_curve(y_true, y_pred)\n",
    "    roc_auc = auc(fpr, tpr)\n",
    "    \n",
    "    # Calculate binary predictions using the threshold\n",
    "    y_pred_binary = (y_pred >= threshold).astype(int)\n",
    "    \n",
    "    # Calculate accuracy\n",
    "    accuracy = accuracy_score(y_true, y_pred_binary)\n",
    "\n",
    "    # Store the metrics in a dictionary\n",
    "    metrics_data.append({\n",
    "        'Model': model_name,\n",
    "        'AUC': roc_auc,\n",
    "        'Accuracy': accuracy\n",
    "    })\n",
    "    \n",
    "    # Plot ROC curve\n",
    "    plt.plot(fpr, tpr, lw=2, label=f'{model_name} ROC curve (AUC = {roc_auc:.2f}, Accuracy = {accuracy:.2f})')\n",
    "\n",
    "# Plot the diagonal line (random guess)\n",
    "plt.plot([0, 1], [0, 1], color='gray', linestyle='--')\n",
    "\n",
    "# Configure plot\n",
    "plt.xlim([0.0, 1.03])\n",
    "plt.ylim([0.0, 1.04])\n",
    "plt.xlabel('False Positive Rate')\n",
    "plt.ylabel('True Positive Rate')\n",
    "plt.title('Receiver Operating Characteristic (ROC) Curve')\n",
    "plt.legend(loc=\"lower right\")\n",
    "plt.grid()\n",
    "plt.show()\n",
    "\n",
    "# Create a DataFrame from the collected metrics data\n",
    "metrics_df = pd.DataFrame(metrics_data)\n",
    "\n",
    "# Display the table of metrics\n",
    "print(\"\\nModel Performance Metrics:\\n\")\n",
    "print(metrics_df.to_string(index=False))"
   ]
  }
 ],
 "metadata": {
  "kernelspec": {
   "display_name": "thesis",
   "language": "python",
   "name": "python3"
  },
  "language_info": {
   "codemirror_mode": {
    "name": "ipython",
    "version": 3
   },
   "file_extension": ".py",
   "mimetype": "text/x-python",
   "name": "python",
   "nbconvert_exporter": "python",
   "pygments_lexer": "ipython3",
   "version": "3.10.13"
  }
 },
 "nbformat": 4,
 "nbformat_minor": 2
}
