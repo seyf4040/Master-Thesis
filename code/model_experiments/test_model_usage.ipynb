{
 "cells": [
  {
   "cell_type": "code",
   "execution_count": 2,
   "metadata": {},
   "outputs": [
    {
     "name": "stdout",
     "output_type": "stream",
     "text": [
      "Available device: cpu\n"
     ]
    }
   ],
   "source": [
    "import torch\n",
    "\n",
    "# Check if GPU is available\n",
    "device = torch.device('cuda' if torch.cuda.is_available() else 'cpu')\n",
    "print(f'Available device: {device}')\n"
   ]
  },
  {
   "cell_type": "code",
   "execution_count": 10,
   "metadata": {},
   "outputs": [],
   "source": [
    "from transformers import pipeline\n",
    "from transformers import AutoTokenizer, AutoModelForSequenceClassification"
   ]
  },
  {
   "cell_type": "markdown",
   "metadata": {},
   "source": [
    "# autopilote-ai/EthicalEye"
   ]
  },
  {
   "cell_type": "code",
   "execution_count": 11,
   "metadata": {},
   "outputs": [],
   "source": [
    "# autopilot-ai/EthicalEye\n",
    "\n",
    "model = AutoModelForSequenceClassification.from_pretrained(\"autopilot-ai/EthicalEye\")\n",
    "tokenizer = AutoTokenizer.from_pretrained(\"autopilot-ai/EthicalEye\")"
   ]
  },
  {
   "cell_type": "code",
   "execution_count": 12,
   "metadata": {},
   "outputs": [
    {
     "name": "stdout",
     "output_type": "stream",
     "text": [
      "Label: Safe - Probability: 0.9984\n",
      "Label: Un-Safe - Probability: 0.0016\n"
     ]
    }
   ],
   "source": [
    "# Run the model on your input\n",
    "inputs = tokenizer(\"I love AutoTrain\", return_tensors=\"pt\")\n",
    "outputs = model(**inputs)\n",
    "\n",
    "# Get the predicted logits\n",
    "logits = outputs.logits\n",
    "\n",
    "# Apply softmax to get probabilities (scores)\n",
    "probabilities = logits.softmax(dim=-1).squeeze()\n",
    "\n",
    "# Retrieve the labels\n",
    "id2label = model.config.id2label\n",
    "labels = [id2label[idx] for idx in range(len(probabilities))]\n",
    "\n",
    "# Combine labels and probabilities, then sort\n",
    "label_prob_pairs = list(zip(labels, probabilities))\n",
    "label_prob_pairs.sort(key=lambda item: item[1], reverse=True)  \n",
    "\n",
    "# Print the sorted results\n",
    "for label, probability in label_prob_pairs:\n",
    "    print(f\"Label: {label} - Probability: {probability:.4f}\")"
   ]
  },
  {
   "cell_type": "markdown",
   "metadata": {},
   "source": [
    "# KoalaAI/TextClassification"
   ]
  },
  {
   "cell_type": "code",
   "execution_count": 13,
   "metadata": {},
   "outputs": [],
   "source": [
    "# KoalaAI/TextClassification\n",
    "\n",
    "# Load the model and tokenizer\n",
    "model = AutoModelForSequenceClassification.from_pretrained(\"KoalaAI/Text-Moderation\")\n",
    "tokenizer = AutoTokenizer.from_pretrained(\"KoalaAI/Text-Moderation\")"
   ]
  },
  {
   "cell_type": "code",
   "execution_count": 14,
   "metadata": {},
   "outputs": [
    {
     "name": "stdout",
     "output_type": "stream",
     "text": [
      "Label: OK - Probability: 0.9840\n",
      "Label: H - Probability: 0.0043\n",
      "Label: SH - Probability: 0.0039\n",
      "Label: V - Probability: 0.0019\n",
      "Label: S - Probability: 0.0018\n",
      "Label: HR - Probability: 0.0015\n",
      "Label: V2 - Probability: 0.0011\n",
      "Label: S3 - Probability: 0.0010\n",
      "Label: H2 - Probability: 0.0006\n"
     ]
    }
   ],
   "source": [
    "# Run the model on your input\n",
    "inputs = tokenizer(\"I love AutoTrain\", return_tensors=\"pt\")\n",
    "outputs = model(**inputs)\n",
    "\n",
    "# Get the predicted logits\n",
    "logits = outputs.logits\n",
    "\n",
    "# Apply softmax to get probabilities (scores)\n",
    "probabilities = logits.softmax(dim=-1).squeeze()\n",
    "\n",
    "# Retrieve the labels\n",
    "id2label = model.config.id2label\n",
    "labels = [id2label[idx] for idx in range(len(probabilities))]\n",
    "\n",
    "# Combine labels and probabilities, then sort\n",
    "label_prob_pairs = list(zip(labels, probabilities))\n",
    "label_prob_pairs.sort(key=lambda item: item[1], reverse=True)  \n",
    "\n",
    "# Print the sorted results\n",
    "for label, probability in label_prob_pairs:\n",
    "    print(f\"Label: {label} - Probability: {probability:.4f}\")"
   ]
  },
  {
   "cell_type": "code",
   "execution_count": 15,
   "metadata": {},
   "outputs": [
    {
     "name": "stdout",
     "output_type": "stream",
     "text": [
      "Label: OK - Probability: 0.4326\n",
      "Label: H - Probability: 0.3793\n",
      "Label: HR - Probability: 0.0623\n",
      "Label: V - Probability: 0.0536\n",
      "Label: H2 - Probability: 0.0227\n",
      "Label: SH - Probability: 0.0169\n",
      "Label: S - Probability: 0.0127\n",
      "Label: V2 - Probability: 0.0123\n",
      "Label: S3 - Probability: 0.0076\n"
     ]
    }
   ],
   "source": [
    "# Run the model on your input\n",
    "inputs = tokenizer(\"go back to your country\", return_tensors=\"pt\")\n",
    "outputs = model(**inputs)\n",
    "\n",
    "# Get the predicted logits\n",
    "logits = outputs.logits\n",
    "\n",
    "# Apply softmax to get probabilities (scores)\n",
    "probabilities = logits.softmax(dim=-1).squeeze()\n",
    "\n",
    "# Retrieve the labels\n",
    "id2label = model.config.id2label\n",
    "labels = [id2label[idx] for idx in range(len(probabilities))]\n",
    "\n",
    "# Combine labels and probabilities, then sort\n",
    "label_prob_pairs = list(zip(labels, probabilities))\n",
    "label_prob_pairs.sort(key=lambda item: item[1], reverse=True)  \n",
    "\n",
    "# Print the sorted results\n",
    "for label, probability in label_prob_pairs:\n",
    "    print(f\"Label: {label} - Probability: {probability:.4f}\")"
   ]
  },
  {
   "cell_type": "markdown",
   "metadata": {},
   "source": [
    "# citizenlab/distilbert-base-multilingual-cased-toxicity "
   ]
  },
  {
   "cell_type": "code",
   "execution_count": 16,
   "metadata": {},
   "outputs": [
    {
     "name": "stdout",
     "output_type": "stream",
     "text": [
      "[{'label': 'not_toxic', 'score': 0.9954179525375366}]\n",
      "[{'label': 'toxic', 'score': 0.9948776960372925}]\n"
     ]
    }
   ],
   "source": [
    "# citizenlab/distilbert-base-multilingual-cased-toxicity \n",
    "model_path = \"citizenlab/distilbert-base-multilingual-cased-toxicity\"\n",
    "\n",
    "toxicity_classifier = pipeline(\"text-classification\", model=model_path, tokenizer=model_path)\n",
    "\n",
    "print(toxicity_classifier(\"this is a lovely message\"))\n",
    "print(toxicity_classifier(\"you are an idiot and you and your family should go back to your country\"))"
   ]
  },
  {
   "cell_type": "markdown",
   "metadata": {},
   "source": [
    "# Other models"
   ]
  },
  {
   "cell_type": "code",
   "execution_count": 17,
   "metadata": {},
   "outputs": [
    {
     "name": "stderr",
     "output_type": "stream",
     "text": [
      "No model was supplied, defaulted to distilbert/distilbert-base-uncased-finetuned-sst-2-english and revision 714eb0f (https://huggingface.co/distilbert/distilbert-base-uncased-finetuned-sst-2-english).\n",
      "Using a pipeline without specifying a model name and revision in production is not recommended.\n"
     ]
    },
    {
     "name": "stdout",
     "output_type": "stream",
     "text": [
      "[{'label': 'POSITIVE', 'score': 0.9998743534088135}]\n",
      "0.9998743534088135\n",
      "[{'label': 'NEGATIVE', 'score': 0.9996622800827026}]\n"
     ]
    }
   ],
   "source": [
    "# unknown model\n",
    "pipe = pipeline(\"text-classification\")\n",
    "\n",
    "res = pipe(\"This restaurant is awesome\")\n",
    "print(res)\n",
    "print(res[0]['score'])\n",
    "\n",
    "res = pipe(\"you are an idiot and you and your family should go back to your country\")\n",
    "print(res)\n"
   ]
  },
  {
   "cell_type": "code",
   "execution_count": 18,
   "metadata": {},
   "outputs": [
    {
     "name": "stderr",
     "output_type": "stream",
     "text": [
      "Some weights of the model checkpoint at FacebookAI/roberta-large-mnli were not used when initializing RobertaForSequenceClassification: ['roberta.pooler.dense.bias', 'roberta.pooler.dense.weight']\n",
      "- This IS expected if you are initializing RobertaForSequenceClassification from the checkpoint of a model trained on another task or with another architecture (e.g. initializing a BertForSequenceClassification model from a BertForPreTraining model).\n",
      "- This IS NOT expected if you are initializing RobertaForSequenceClassification from the checkpoint of a model that you expect to be exactly identical (initializing a BertForSequenceClassification model from a BertForSequenceClassification model).\n"
     ]
    },
    {
     "data": {
      "text/plain": [
       "[{'label': 'NEUTRAL', 'score': 0.7313134074211121}]"
      ]
     },
     "execution_count": 18,
     "metadata": {},
     "output_type": "execute_result"
    }
   ],
   "source": [
    "# FacebookAI/roberta-large-mnli\n",
    "pipe2 = pipeline(model=\"FacebookAI/roberta-large-mnli\")\n",
    "pipe2(\"This restaurant is awesome\")"
   ]
  }
 ],
 "metadata": {
  "kernelspec": {
   "display_name": "thesis",
   "language": "python",
   "name": "python3"
  },
  "language_info": {
   "codemirror_mode": {
    "name": "ipython",
    "version": 3
   },
   "file_extension": ".py",
   "mimetype": "text/x-python",
   "name": "python",
   "nbconvert_exporter": "python",
   "pygments_lexer": "ipython3",
   "version": "3.10.13"
  }
 },
 "nbformat": 4,
 "nbformat_minor": 2
}
